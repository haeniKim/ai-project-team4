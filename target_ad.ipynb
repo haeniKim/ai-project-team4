{
 "cells": [
  {
   "cell_type": "markdown",
   "metadata": {},
   "source": [
    "## 예측 결과에 따른 광고 송출"
   ]
  },
  {
   "cell_type": "markdown",
   "metadata": {},
   "source": [
    "### 1. 성별, 연령 예측값 담기"
   ]
  },
  {
   "cell_type": "code",
   "execution_count": 3,
   "metadata": {},
   "outputs": [],
   "source": [
    "import numpy as np\n",
    "import matplotlib.pyplot as plt\n",
    "from tensorflow.keras.preprocessing.image import load_img, img_to_array\n",
    "from keras_preprocessing.image import ImageDataGenerator\n",
    "import math\n",
    "import cv2"
   ]
  },
  {
   "cell_type": "markdown",
   "metadata": {},
   "source": [
    "1) VGG16 모델 Load"
   ]
  },
  {
   "cell_type": "code",
   "execution_count": 6,
   "metadata": {},
   "outputs": [],
   "source": [
    "from tensorflow.keras.models import load_model\n",
    "\n",
    "model = load_model('C:/Users/user/Desktop/vgg16.h5', compile=False)"
   ]
  },
  {
   "cell_type": "code",
   "execution_count": 7,
   "metadata": {},
   "outputs": [],
   "source": [
    "import numpy as np\n",
    "\n",
    "sex = [\"M\", \"F\"]\n",
    "age = [\"0's\",\"10's\",\"20's\",\"30's\",\"40's\",\"50's\",\"60+\"]"
   ]
  },
  {
   "cell_type": "markdown",
   "metadata": {},
   "source": [
    "2) 테스트 이미지 불러와서 전처리"
   ]
  },
  {
   "cell_type": "code",
   "execution_count": 8,
   "metadata": {},
   "outputs": [],
   "source": [
    "datagen=ImageDataGenerator(rescale=1./255.)"
   ]
  },
  {
   "cell_type": "code",
   "execution_count": 24,
   "metadata": {},
   "outputs": [],
   "source": [
    "img = load_img('test3.jpg', target_size=(224, 224))  # 이미지 사이즈 맞추기\n",
    "img_array = img_to_array(img)  # 이미지를 배열로 변환\n",
    "img_array = np.expand_dims(img_array, axis=0)  # 차원 확장\n",
    "img_preprocessed = datagen.standardize(img_array)  # 데이터 전처리"
   ]
  },
  {
   "cell_type": "markdown",
   "metadata": {},
   "source": [
    "3. 테스트 이미지 예측"
   ]
  },
  {
   "cell_type": "code",
   "execution_count": 25,
   "metadata": {},
   "outputs": [
    {
     "name": "stdout",
     "output_type": "stream",
     "text": [
      "1/1 [==============================] - 0s 25ms/step\n"
     ]
    }
   ],
   "source": [
    "pred = model.predict(img_preprocessed)  # 예측 실행"
   ]
  },
  {
   "cell_type": "code",
   "execution_count": 26,
   "metadata": {},
   "outputs": [
    {
     "data": {
      "text/plain": [
       "array([[1.0000000e+00, 9.1327922e-07, 2.8205300e-18, 4.2698380e-12,\n",
       "        8.9476956e-03, 1.0032482e-03, 6.6597403e-07, 9.9561691e-01,\n",
       "        5.2297539e-10]], dtype=float32)"
      ]
     },
     "execution_count": 26,
     "metadata": {},
     "output_type": "execute_result"
    }
   ],
   "source": [
    "pred"
   ]
  },
  {
   "cell_type": "markdown",
   "metadata": {},
   "source": [
    "4. 예측 결과에 대해서 sex, age 추출"
   ]
  },
  {
   "cell_type": "code",
   "execution_count": 27,
   "metadata": {},
   "outputs": [],
   "source": [
    "#임계값 설정하는 경우\n",
    "pred_labels = (pred[0] > 0.2).astype(int)"
   ]
  },
  {
   "cell_type": "code",
   "execution_count": 28,
   "metadata": {},
   "outputs": [
    {
     "name": "stdout",
     "output_type": "stream",
     "text": [
      "성별 : M, 연령대 : 50's\n"
     ]
    }
   ],
   "source": [
    "#index값 추출\n",
    "s_index = np.argmax(pred_labels[:2],axis=0)\n",
    "a_index = np.argmax(pred_labels[2:],axis=0)\n",
    "\n",
    "pred_sex = sex[s_index]\n",
    "pred_age = age[a_index]\n",
    "\n",
    "print(f'성별 : {pred_sex}, 연령대 : {pred_age}')"
   ]
  },
  {
   "cell_type": "markdown",
   "metadata": {},
   "source": [
    "5. sex, age에 따른 광고 이미지 폴더 접근"
   ]
  },
  {
   "cell_type": "code",
   "execution_count": 14,
   "metadata": {},
   "outputs": [],
   "source": [
    "import os\n",
    "import random\n",
    "from PIL import Image"
   ]
  },
  {
   "cell_type": "code",
   "execution_count": 29,
   "metadata": {},
   "outputs": [],
   "source": [
    "#폴더 경로 잡기\n",
    "folder_path = f'ad/{pred_age}, {pred_sex}'"
   ]
  },
  {
   "cell_type": "code",
   "execution_count": 30,
   "metadata": {},
   "outputs": [],
   "source": [
    "image_files = []\n",
    "for filename in os.listdir(folder_path):\n",
    "    if filename.endswith(\".jpg\") or filename.endswith(\".png\"):\n",
    "        image_files.append(os.path.join(folder_path, filename))\n",
    "\n",
    "if not image_files:\n",
    "    print(\"이미지 파일을 찾을 수 없습니다.\")\n",
    "\n",
    "\n",
    "# 랜덤하게 이미지 선택 및 보여주기\n",
    "random_image_path = random.choice(image_files)\n",
    "image = Image.open(random_image_path)\n",
    "image.show()"
   ]
  },
  {
   "cell_type": "markdown",
   "metadata": {},
   "source": [
    "#### 함수\n",
    "* 예측값에 따라 폴더 접근해서 폴더 내 광고 랜덤으로 보여주는 함수"
   ]
  },
  {
   "cell_type": "code",
   "execution_count": 31,
   "metadata": {},
   "outputs": [],
   "source": [
    "def show_target_ad(pred_age, pred_sex):\n",
    "    folder_path = f'ad/{pred_age}, {pred_sex}'\n",
    "\n",
    "    image_files = []\n",
    "    for filename in os.listdir(folder_path):\n",
    "        if filename.endswith(\".jpg\") or filename.endswith(\".png\"):\n",
    "            image_files.append(os.path.join(folder_path, filename))\n",
    "\n",
    "    if not image_files:\n",
    "        print(\"이미지 파일을 찾을 수 없습니다.\")\n",
    "        return\n",
    "\n",
    "\n",
    "    # 랜덤하게 이미지 선택 및 보여주기\n",
    "    random_image_path = random.choice(image_files)\n",
    "    image = Image.open(random_image_path)\n",
    "    image.show()"
   ]
  },
  {
   "cell_type": "code",
   "execution_count": 32,
   "metadata": {},
   "outputs": [],
   "source": [
    "show_target_ad(pred_age, pred_sex)"
   ]
  },
  {
   "cell_type": "code",
   "execution_count": null,
   "metadata": {},
   "outputs": [],
   "source": []
  }
 ],
 "metadata": {
  "kernelspec": {
   "display_name": "Python 3",
   "language": "python",
   "name": "python3"
  },
  "language_info": {
   "codemirror_mode": {
    "name": "ipython",
    "version": 3
   },
   "file_extension": ".py",
   "mimetype": "text/x-python",
   "name": "python",
   "nbconvert_exporter": "python",
   "pygments_lexer": "ipython3",
   "version": "3.8.17"
  },
  "orig_nbformat": 4
 },
 "nbformat": 4,
 "nbformat_minor": 2
}

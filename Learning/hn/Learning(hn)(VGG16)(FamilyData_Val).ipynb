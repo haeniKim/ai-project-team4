{
 "cells": [
  {
   "cell_type": "code",
   "execution_count": 1,
   "metadata": {},
   "outputs": [
    {
     "name": "stdout",
     "output_type": "stream",
     "text": [
      "Collecting git+https://github.com/keras-team/keras-preprocessing.git\n",
      "  Cloning https://github.com/keras-team/keras-preprocessing.git to c:\\users\\user\\appdata\\local\\temp\\pip-req-build-zefo3dsg\n",
      "  Resolved https://github.com/keras-team/keras-preprocessing.git to commit 3e380065d4afc7347aaee8d89325a16b22158438\n",
      "  Preparing metadata (setup.py): started\n",
      "  Preparing metadata (setup.py): finished with status 'done'\n",
      "Requirement already satisfied: numpy>=1.9.1 in c:\\users\\user\\.conda\\envs\\project4\\lib\\site-packages (from Keras-Preprocessing==1.1.2) (1.24.3)\n",
      "Note: you may need to restart the kernel to use updated packages.\n"
     ]
    },
    {
     "name": "stderr",
     "output_type": "stream",
     "text": [
      "  Running command git clone --filter=blob:none --quiet https://github.com/keras-team/keras-preprocessing.git 'C:\\Users\\user\\AppData\\Local\\Temp\\pip-req-build-zefo3dsg'\n"
     ]
    }
   ],
   "source": [
    "pip install git+https://github.com/keras-team/keras-preprocessing.git"
   ]
  },
  {
   "cell_type": "code",
   "execution_count": 2,
   "metadata": {},
   "outputs": [],
   "source": [
    "from keras.models import Sequential\n",
    "from keras_preprocessing.image import ImageDataGenerator\n",
    "from keras.layers import Dense, Activation, Flatten, Dropout, BatchNormalization\n",
    "from keras.layers import Conv2D, MaxPooling2D\n",
    "from keras import regularizers, optimizers\n",
    "import pandas as pd\n",
    "import numpy as np"
   ]
  },
  {
   "cell_type": "code",
   "execution_count": 3,
   "metadata": {},
   "outputs": [],
   "source": [
    "import keras\n",
    "from tensorflow.keras import optimizers\n",
    "from tensorflow.keras.optimizers import RMSprop\n",
    "from PIL import Image\n",
    "import tensorflow as tf\n",
    "from tensorflow.keras.layers import Input, Conv2D, Activation, MaxPooling2D, Dropout, Flatten, Dense\n",
    "from tensorflow.keras import models\n",
    "from tensorflow.keras import optimizers\n",
    "from tensorflow.keras import layers"
   ]
  },
  {
   "cell_type": "code",
   "execution_count": 4,
   "metadata": {},
   "outputs": [],
   "source": [
    "from tqdm import tqdm\n",
    "from time import perf_counter\n",
    "import matplotlib.pyplot as plt\n",
    "from sklearn.model_selection import train_test_split\n",
    "from sklearn.metrics import classification_report,accuracy_score\n",
    "from IPython.display import Markdown, display"
   ]
  },
  {
   "cell_type": "markdown",
   "metadata": {},
   "source": [
    "## 데이터 전처리"
   ]
  },
  {
   "cell_type": "code",
   "execution_count": 5,
   "metadata": {},
   "outputs": [],
   "source": [
    "df = pd.read_csv(\"./data/FamilyData/Val/FamilyData_Val_DF.csv\",index_col=0)"
   ]
  },
  {
   "cell_type": "code",
   "execution_count": 6,
   "metadata": {},
   "outputs": [
    {
     "data": {
      "text/html": [
       "<div>\n",
       "<style scoped>\n",
       "    .dataframe tbody tr th:only-of-type {\n",
       "        vertical-align: middle;\n",
       "    }\n",
       "\n",
       "    .dataframe tbody tr th {\n",
       "        vertical-align: top;\n",
       "    }\n",
       "\n",
       "    .dataframe thead th {\n",
       "        text-align: right;\n",
       "    }\n",
       "</style>\n",
       "<table border=\"1\" class=\"dataframe\">\n",
       "  <thead>\n",
       "    <tr style=\"text-align: right;\">\n",
       "      <th></th>\n",
       "      <th>img_path</th>\n",
       "      <th>M</th>\n",
       "      <th>F</th>\n",
       "      <th>0's</th>\n",
       "      <th>10's</th>\n",
       "      <th>20's</th>\n",
       "      <th>30's</th>\n",
       "      <th>40's</th>\n",
       "      <th>50's</th>\n",
       "      <th>60+</th>\n",
       "    </tr>\n",
       "  </thead>\n",
       "  <tbody>\n",
       "    <tr>\n",
       "      <th>0</th>\n",
       "      <td>F0801_IND_F_48_-45_01.JPG</td>\n",
       "      <td>1</td>\n",
       "      <td>0</td>\n",
       "      <td>0</td>\n",
       "      <td>0</td>\n",
       "      <td>0</td>\n",
       "      <td>0</td>\n",
       "      <td>1</td>\n",
       "      <td>0</td>\n",
       "      <td>0</td>\n",
       "    </tr>\n",
       "    <tr>\n",
       "      <th>1</th>\n",
       "      <td>F0801_IND_F_48_-45_02.JPG</td>\n",
       "      <td>1</td>\n",
       "      <td>0</td>\n",
       "      <td>0</td>\n",
       "      <td>0</td>\n",
       "      <td>0</td>\n",
       "      <td>0</td>\n",
       "      <td>1</td>\n",
       "      <td>0</td>\n",
       "      <td>0</td>\n",
       "    </tr>\n",
       "    <tr>\n",
       "      <th>2</th>\n",
       "      <td>F0801_IND_F_48_-90_01.JPG</td>\n",
       "      <td>1</td>\n",
       "      <td>0</td>\n",
       "      <td>0</td>\n",
       "      <td>0</td>\n",
       "      <td>0</td>\n",
       "      <td>0</td>\n",
       "      <td>1</td>\n",
       "      <td>0</td>\n",
       "      <td>0</td>\n",
       "    </tr>\n",
       "    <tr>\n",
       "      <th>3</th>\n",
       "      <td>F0801_IND_F_48_-90_02.JPG</td>\n",
       "      <td>1</td>\n",
       "      <td>0</td>\n",
       "      <td>0</td>\n",
       "      <td>0</td>\n",
       "      <td>0</td>\n",
       "      <td>0</td>\n",
       "      <td>1</td>\n",
       "      <td>0</td>\n",
       "      <td>0</td>\n",
       "    </tr>\n",
       "    <tr>\n",
       "      <th>4</th>\n",
       "      <td>F0801_IND_F_48_0_01.JPG</td>\n",
       "      <td>1</td>\n",
       "      <td>0</td>\n",
       "      <td>0</td>\n",
       "      <td>0</td>\n",
       "      <td>0</td>\n",
       "      <td>0</td>\n",
       "      <td>1</td>\n",
       "      <td>0</td>\n",
       "      <td>0</td>\n",
       "    </tr>\n",
       "  </tbody>\n",
       "</table>\n",
       "</div>"
      ],
      "text/plain": [
       "                    img_path  M  F  0's  10's  20's  30's  40's  50's  60+\n",
       "0  F0801_IND_F_48_-45_01.JPG  1  0    0     0     0     0     1     0    0\n",
       "1  F0801_IND_F_48_-45_02.JPG  1  0    0     0     0     0     1     0    0\n",
       "2  F0801_IND_F_48_-90_01.JPG  1  0    0     0     0     0     1     0    0\n",
       "3  F0801_IND_F_48_-90_02.JPG  1  0    0     0     0     0     1     0    0\n",
       "4    F0801_IND_F_48_0_01.JPG  1  0    0     0     0     0     1     0    0"
      ]
     },
     "execution_count": 6,
     "metadata": {},
     "output_type": "execute_result"
    }
   ],
   "source": [
    "df.head()"
   ]
  },
  {
   "cell_type": "code",
   "execution_count": 7,
   "metadata": {},
   "outputs": [],
   "source": [
    "columns=[\"M\",\"F\",\"0's\",\"10's\",\"20's\",\"30's\",\"40's\",\"50's\",\"60+\"]"
   ]
  },
  {
   "cell_type": "code",
   "execution_count": 8,
   "metadata": {},
   "outputs": [
    {
     "data": {
      "text/plain": [
       "(2048, 512, 640)"
      ]
     },
     "execution_count": 8,
     "metadata": {},
     "output_type": "execute_result"
    }
   ],
   "source": [
    "from sklearn.model_selection import train_test_split\n",
    "\n",
    "train_df, test_df = train_test_split(df, random_state=777, test_size=0.2) \n",
    "train_df, val_df = train_test_split(train_df, random_state=777, test_size=0.2) \n",
    "\n",
    "len(train_df) , len(val_df), len(test_df)"
   ]
  },
  {
   "cell_type": "code",
   "execution_count": 9,
   "metadata": {},
   "outputs": [],
   "source": [
    "datagen=ImageDataGenerator(rescale=1./255.)\n",
    "test_datagen=ImageDataGenerator(rescale=1./255.)"
   ]
  },
  {
   "cell_type": "code",
   "execution_count": 10,
   "metadata": {},
   "outputs": [
    {
     "name": "stdout",
     "output_type": "stream",
     "text": [
      "Found 2048 validated image filenames.\n"
     ]
    }
   ],
   "source": [
    "train_generator=datagen.flow_from_dataframe(\n",
    "    dataframe=train_df,\n",
    "    directory=\"C:/Users/user/Desktop/Preprocessed_Datasets(FamilyData_Val)\",\n",
    "    x_col=\"img_path\",\n",
    "    y_col=columns,\n",
    "    batch_size=32,\n",
    "    seed=42,\n",
    "    shuffle=True,\n",
    "    class_mode=\"other\",\n",
    "    target_size=(224,224))"
   ]
  },
  {
   "cell_type": "code",
   "execution_count": 11,
   "metadata": {},
   "outputs": [
    {
     "name": "stdout",
     "output_type": "stream",
     "text": [
      "Found 512 validated image filenames.\n"
     ]
    }
   ],
   "source": [
    "valid_generator=test_datagen.flow_from_dataframe(\n",
    "    dataframe=val_df,\n",
    "    directory=\"C:/Users/user/Desktop/Preprocessed_Datasets(FamilyData_Val)\",\n",
    "    x_col=\"img_path\",\n",
    "    y_col=columns,\n",
    "    batch_size=32,\n",
    "    seed=42,\n",
    "    shuffle=True,\n",
    "    class_mode=\"other\",\n",
    "    target_size=(224,224))"
   ]
  },
  {
   "cell_type": "code",
   "execution_count": 12,
   "metadata": {},
   "outputs": [
    {
     "name": "stdout",
     "output_type": "stream",
     "text": [
      "Found 640 validated image filenames.\n"
     ]
    }
   ],
   "source": [
    "test_generator=test_datagen.flow_from_dataframe(\n",
    "    dataframe=test_df,\n",
    "    directory=\"C:/Users/user/Desktop/Preprocessed_Datasets(FamilyData_Val)\",\n",
    "    x_col=\"img_path\",\n",
    "    y_col=columns,\n",
    "    batch_size=1,\n",
    "    seed=42,\n",
    "    shuffle=False,\n",
    "    class_mode= \"other\", #None\n",
    "    target_size=(224,224))"
   ]
  },
  {
   "cell_type": "markdown",
   "metadata": {},
   "source": [
    "## 모델 전이학습"
   ]
  },
  {
   "cell_type": "markdown",
   "metadata": {},
   "source": [
    "### 1) Import VGG16"
   ]
  },
  {
   "cell_type": "code",
   "execution_count": 13,
   "metadata": {},
   "outputs": [],
   "source": [
    "#model\n",
    "from keras.applications import VGG16\n",
    "\n",
    "vgg16 = VGG16(weights='imagenet',\n",
    "              include_top=False, \n",
    "              input_shape = (224,224,3))\n"
   ]
  },
  {
   "cell_type": "code",
   "execution_count": 14,
   "metadata": {},
   "outputs": [
    {
     "name": "stdout",
     "output_type": "stream",
     "text": [
      "Model: \"vgg16\"\n",
      "_________________________________________________________________\n",
      " Layer (type)                Output Shape              Param #   \n",
      "=================================================================\n",
      " input_1 (InputLayer)        [(None, 224, 224, 3)]     0         \n",
      "                                                                 \n",
      " block1_conv1 (Conv2D)       (None, 224, 224, 64)      1792      \n",
      "                                                                 \n",
      " block1_conv2 (Conv2D)       (None, 224, 224, 64)      36928     \n",
      "                                                                 \n",
      " block1_pool (MaxPooling2D)  (None, 112, 112, 64)      0         \n",
      "                                                                 \n",
      " block2_conv1 (Conv2D)       (None, 112, 112, 128)     73856     \n",
      "                                                                 \n",
      " block2_conv2 (Conv2D)       (None, 112, 112, 128)     147584    \n",
      "                                                                 \n",
      " block2_pool (MaxPooling2D)  (None, 56, 56, 128)       0         \n",
      "                                                                 \n",
      " block3_conv1 (Conv2D)       (None, 56, 56, 256)       295168    \n",
      "                                                                 \n",
      " block3_conv2 (Conv2D)       (None, 56, 56, 256)       590080    \n",
      "                                                                 \n",
      " block3_conv3 (Conv2D)       (None, 56, 56, 256)       590080    \n",
      "                                                                 \n",
      " block3_pool (MaxPooling2D)  (None, 28, 28, 256)       0         \n",
      "                                                                 \n",
      " block4_conv1 (Conv2D)       (None, 28, 28, 512)       1180160   \n",
      "                                                                 \n",
      " block4_conv2 (Conv2D)       (None, 28, 28, 512)       2359808   \n",
      "                                                                 \n",
      " block4_conv3 (Conv2D)       (None, 28, 28, 512)       2359808   \n",
      "                                                                 \n",
      " block4_pool (MaxPooling2D)  (None, 14, 14, 512)       0         \n",
      "                                                                 \n",
      " block5_conv1 (Conv2D)       (None, 14, 14, 512)       2359808   \n",
      "                                                                 \n",
      " block5_conv2 (Conv2D)       (None, 14, 14, 512)       2359808   \n",
      "                                                                 \n",
      " block5_conv3 (Conv2D)       (None, 14, 14, 512)       2359808   \n",
      "                                                                 \n",
      " block5_pool (MaxPooling2D)  (None, 7, 7, 512)         0         \n",
      "                                                                 \n",
      "=================================================================\n",
      "Total params: 14714688 (56.13 MB)\n",
      "Trainable params: 14714688 (56.13 MB)\n",
      "Non-trainable params: 0 (0.00 Byte)\n",
      "_________________________________________________________________\n"
     ]
    }
   ],
   "source": [
    "vgg16.summary()"
   ]
  },
  {
   "cell_type": "markdown",
   "metadata": {},
   "source": [
    "### 2) Model Define"
   ]
  },
  {
   "cell_type": "code",
   "execution_count": 15,
   "metadata": {},
   "outputs": [
    {
     "name": "stdout",
     "output_type": "stream",
     "text": [
      "Model: \"sequential\"\n",
      "_________________________________________________________________\n",
      " Layer (type)                Output Shape              Param #   \n",
      "=================================================================\n",
      " vgg16 (Functional)          (None, 7, 7, 512)         14714688  \n",
      "                                                                 \n",
      " flatten (Flatten)           (None, 25088)             0         \n",
      "                                                                 \n",
      " dense (Dense)               (None, 256)               6422784   \n",
      "                                                                 \n",
      " dense_1 (Dense)             (None, 64)                16448     \n",
      "                                                                 \n",
      " dense_2 (Dense)             (None, 9)                 585       \n",
      "                                                                 \n",
      "=================================================================\n",
      "Total params: 21154505 (80.70 MB)\n",
      "Trainable params: 21154505 (80.70 MB)\n",
      "Non-trainable params: 0 (0.00 Byte)\n",
      "_________________________________________________________________\n"
     ]
    }
   ],
   "source": [
    "model = models.Sequential()\n",
    "model.add(vgg16)\n",
    "\n",
    "model.add(Flatten(input_shape=(224,224,3)))\n",
    "model.add(Dense(256, activation = 'relu'))\n",
    "model.add(Dense(64,activation='relu'))\n",
    "model.add(Dense(9,activation='sigmoid'))\n",
    "\n",
    "model.summary()"
   ]
  },
  {
   "cell_type": "markdown",
   "metadata": {},
   "source": [
    "### 3) Model Compile"
   ]
  },
  {
   "cell_type": "code",
   "execution_count": 16,
   "metadata": {},
   "outputs": [],
   "source": [
    "model.compile(loss = 'binary_crossentropy',\n",
    "              optimizer = optimizers.Adam(learning_rate = 0.00005),\n",
    "              metrics = ['accuracy'])"
   ]
  },
  {
   "cell_type": "markdown",
   "metadata": {},
   "source": [
    "### 4) Model Fit"
   ]
  },
  {
   "cell_type": "code",
   "execution_count": 17,
   "metadata": {},
   "outputs": [
    {
     "name": "stdout",
     "output_type": "stream",
     "text": [
      "Epoch 1/30\n",
      "64/64 [==============================] - 1001s 16s/step - loss: 0.4547 - accuracy: 0.6631 - val_loss: 0.3621 - val_accuracy: 0.8750\n",
      "Epoch 2/30\n",
      "64/64 [==============================] - 835s 13s/step - loss: 0.3072 - accuracy: 0.9194 - val_loss: 0.2892 - val_accuracy: 0.9609\n",
      "Epoch 3/30\n",
      "64/64 [==============================] - 527s 8s/step - loss: 0.2031 - accuracy: 0.9512 - val_loss: 0.2483 - val_accuracy: 0.9160\n",
      "Epoch 4/30\n",
      "64/64 [==============================] - 526s 8s/step - loss: 0.1327 - accuracy: 0.9399 - val_loss: 0.2078 - val_accuracy: 0.9316\n",
      "Epoch 5/30\n",
      "64/64 [==============================] - 530s 8s/step - loss: 0.0748 - accuracy: 0.9404 - val_loss: 0.1844 - val_accuracy: 0.9414\n",
      "Epoch 6/30\n",
      "64/64 [==============================] - 530s 8s/step - loss: 0.0444 - accuracy: 0.9482 - val_loss: 0.1792 - val_accuracy: 0.9590\n",
      "Epoch 7/30\n",
      "64/64 [==============================] - 530s 8s/step - loss: 0.0254 - accuracy: 0.9160 - val_loss: 0.2098 - val_accuracy: 0.8828\n",
      "Epoch 8/30\n",
      "64/64 [==============================] - 531s 8s/step - loss: 0.0280 - accuracy: 0.9058 - val_loss: 0.2309 - val_accuracy: 0.8984\n",
      "Epoch 9/30\n",
      "64/64 [==============================] - 531s 8s/step - loss: 0.0220 - accuracy: 0.8892 - val_loss: 0.2249 - val_accuracy: 0.9180\n",
      "Epoch 10/30\n",
      "64/64 [==============================] - 531s 8s/step - loss: 0.0126 - accuracy: 0.9077 - val_loss: 0.2112 - val_accuracy: 0.9453\n",
      "Epoch 11/30\n",
      "64/64 [==============================] - 530s 8s/step - loss: 0.0062 - accuracy: 0.9038 - val_loss: 0.2579 - val_accuracy: 0.9004\n",
      "Epoch 12/30\n",
      "64/64 [==============================] - 529s 8s/step - loss: 0.0135 - accuracy: 0.9121 - val_loss: 0.2498 - val_accuracy: 0.9395\n",
      "Epoch 13/30\n",
      "64/64 [==============================] - 529s 8s/step - loss: 0.0058 - accuracy: 0.9038 - val_loss: 0.2569 - val_accuracy: 0.9375\n",
      "Epoch 14/30\n",
      "64/64 [==============================] - 529s 8s/step - loss: 0.0060 - accuracy: 0.9224 - val_loss: 0.2401 - val_accuracy: 0.9023\n",
      "Epoch 15/30\n",
      "64/64 [==============================] - 531s 8s/step - loss: 0.0084 - accuracy: 0.8965 - val_loss: 0.2287 - val_accuracy: 0.9160\n",
      "Epoch 16/30\n",
      "64/64 [==============================] - 530s 8s/step - loss: 0.0083 - accuracy: 0.8984 - val_loss: 0.2211 - val_accuracy: 0.9219\n",
      "Epoch 17/30\n",
      "64/64 [==============================] - 531s 8s/step - loss: 0.0047 - accuracy: 0.8975 - val_loss: 0.2157 - val_accuracy: 0.9355\n",
      "Epoch 18/30\n",
      "64/64 [==============================] - 532s 8s/step - loss: 0.0027 - accuracy: 0.8975 - val_loss: 0.2658 - val_accuracy: 0.9160\n",
      "Epoch 19/30\n",
      "64/64 [==============================] - 532s 8s/step - loss: 0.0041 - accuracy: 0.9155 - val_loss: 0.2619 - val_accuracy: 0.9121\n",
      "Epoch 20/30\n",
      "64/64 [==============================] - 531s 8s/step - loss: 0.0095 - accuracy: 0.8896 - val_loss: 0.2559 - val_accuracy: 0.8926\n",
      "Epoch 21/30\n",
      "64/64 [==============================] - 530s 8s/step - loss: 0.0125 - accuracy: 0.8545 - val_loss: 0.2019 - val_accuracy: 0.9609\n",
      "Epoch 22/30\n",
      "64/64 [==============================] - 531s 8s/step - loss: 0.0165 - accuracy: 0.8794 - val_loss: 0.2375 - val_accuracy: 0.9297\n",
      "Epoch 23/30\n",
      "64/64 [==============================] - 531s 8s/step - loss: 0.0061 - accuracy: 0.9019 - val_loss: 0.2735 - val_accuracy: 0.8926\n",
      "Epoch 24/30\n",
      "64/64 [==============================] - 530s 8s/step - loss: 0.0051 - accuracy: 0.8965 - val_loss: 0.2585 - val_accuracy: 0.8965\n",
      "Epoch 25/30\n",
      "64/64 [==============================] - 530s 8s/step - loss: 0.0014 - accuracy: 0.8979 - val_loss: 0.2487 - val_accuracy: 0.9395\n",
      "Epoch 26/30\n",
      "64/64 [==============================] - 529s 8s/step - loss: 1.4297e-04 - accuracy: 0.8989 - val_loss: 0.2721 - val_accuracy: 0.9160\n",
      "Epoch 27/30\n",
      "64/64 [==============================] - 531s 8s/step - loss: 2.5241e-05 - accuracy: 0.8804 - val_loss: 0.2837 - val_accuracy: 0.9219\n",
      "Epoch 28/30\n",
      "64/64 [==============================] - 531s 8s/step - loss: 1.4703e-05 - accuracy: 0.8926 - val_loss: 0.2924 - val_accuracy: 0.9238\n",
      "Epoch 29/30\n",
      "64/64 [==============================] - 529s 8s/step - loss: 1.0788e-05 - accuracy: 0.8975 - val_loss: 0.3001 - val_accuracy: 0.9238\n",
      "Epoch 30/30\n",
      "64/64 [==============================] - 530s 8s/step - loss: 8.5824e-06 - accuracy: 0.8960 - val_loss: 0.3063 - val_accuracy: 0.9258\n",
      "CPU times: total: 1d 4h 35min 29s\n",
      "Wall time: 4h 38min 44s\n"
     ]
    }
   ],
   "source": [
    "%%time\n",
    "\n",
    "Hist_dandc = model.fit(train_generator,\n",
    "                        # steps_per_epoch=STEP_SIZE_TRAIN,\n",
    "                        validation_data=valid_generator,\n",
    "                        # validation_steps=STEP_SIZE_VALID,\n",
    "                        epochs=30)"
   ]
  },
  {
   "cell_type": "code",
   "execution_count": 18,
   "metadata": {},
   "outputs": [
    {
     "name": "stdout",
     "output_type": "stream",
     "text": [
      "640/640 [==============================] - 62s 97ms/step - loss: 0.2939 - accuracy: 0.9297\n",
      "Loss = 0.29390\n",
      "Accuracy = 0.92969\n"
     ]
    }
   ],
   "source": [
    "loss, accuracy = model.evaluate(test_generator)\n",
    "\n",
    "print('Loss = {:.5f}'.format(loss))\n",
    "print('Accuracy = {:.5f}'.format(accuracy))"
   ]
  },
  {
   "cell_type": "markdown",
   "metadata": {},
   "source": [
    "* Model Save"
   ]
  },
  {
   "cell_type": "code",
   "execution_count": 19,
   "metadata": {},
   "outputs": [
    {
     "name": "stderr",
     "output_type": "stream",
     "text": [
      "c:\\Users\\user\\.conda\\envs\\project4\\lib\\site-packages\\keras\\src\\engine\\training.py:3000: UserWarning: You are saving your model as an HDF5 file via `model.save()`. This file format is considered legacy. We recommend using instead the native Keras format, e.g. `model.save('my_model.keras')`.\n",
      "  saving_api.save_model(\n"
     ]
    }
   ],
   "source": [
    "model.save('C:/Users/user/Desktop/mtvs/project4/vgg16.h5')"
   ]
  },
  {
   "cell_type": "code",
   "execution_count": 20,
   "metadata": {},
   "outputs": [
    {
     "name": "stdout",
     "output_type": "stream",
     "text": [
      "[0.3621269762516022, 0.28916221857070923, 0.24826142191886902, 0.20778191089630127, 0.18439726531505585, 0.17919059097766876, 0.20978373289108276, 0.23093679547309875, 0.2248767912387848, 0.21120429039001465, 0.2579309642314911, 0.24978554248809814, 0.25689372420310974, 0.2401478886604309, 0.22874216735363007, 0.22113800048828125, 0.2157479077577591, 0.2657585144042969, 0.26193687319755554, 0.2558957040309906, 0.20189574360847473, 0.2375272959470749, 0.2735300660133362, 0.2584531903266907, 0.24874740839004517, 0.27210524678230286, 0.28371959924697876, 0.2924323081970215, 0.30005669593811035, 0.30625563859939575]\n",
      "[0.454719215631485, 0.30716070532798767, 0.20313262939453125, 0.1326707899570465, 0.0748482495546341, 0.04438314959406853, 0.02535044401884079, 0.028049979358911514, 0.02195018157362938, 0.012648539617657661, 0.006242820993065834, 0.013537390157580376, 0.005782439839094877, 0.006021670065820217, 0.008418641053140163, 0.008289778605103493, 0.004660715814679861, 0.002715033944696188, 0.004082282539457083, 0.009479823522269726, 0.012500245124101639, 0.01652071624994278, 0.006055730395019054, 0.005061660427600145, 0.0013573378091678023, 0.00014296792505774647, 2.5241430194000714e-05, 1.470329243602464e-05, 1.0788278814288788e-05, 8.582449481764343e-06]\n"
     ]
    }
   ],
   "source": [
    "print(Hist_dandc.history['val_loss'])\n",
    "print(Hist_dandc.history['loss'])"
   ]
  },
  {
   "cell_type": "code",
   "execution_count": 21,
   "metadata": {},
   "outputs": [
    {
     "data": {
      "image/png": "[encoded data removed]",
      "text/plain": [
       "<Figure size 900x600 with 1 Axes>"
      ]
     },
     "metadata": {},
     "output_type": "display_data"
    }
   ],
   "source": [
    "import matplotlib.pyplot as plt\n",
    "\n",
    "epochs = range(1, len(Hist_dandc.history['loss']) + 1)\n",
    "\n",
    "plt.figure(figsize = (9, 6))\n",
    "plt.plot(epochs, Hist_dandc.history['loss'])\n",
    "plt.plot(epochs, Hist_dandc.history['val_loss'])\n",
    "\n",
    "plt.title('Training & Validation Loss')\n",
    "plt.xlabel('Epochs')\n",
    "plt.ylabel('Loss')\n",
    "plt.legend(['Training Loss', 'Validation Loss'])\n",
    "plt.grid()\n",
    "plt.show()"
   ]
  },
  {
   "cell_type": "code",
   "execution_count": 22,
   "metadata": {},
   "outputs": [
    {
     "data": {
      "image/png": "[encoded data removed]",
      "text/plain": [
       "<Figure size 900x600 with 1 Axes>"
      ]
     },
     "metadata": {},
     "output_type": "display_data"
    }
   ],
   "source": [
    "import matplotlib.pyplot as plt\n",
    "\n",
    "epochs = range(1, len(Hist_dandc.history['loss']) + 1)\n",
    "\n",
    "plt.figure(figsize = (9, 6))\n",
    "plt.plot(epochs, Hist_dandc.history['accuracy'])\n",
    "plt.plot(epochs, Hist_dandc.history['val_accuracy'])\n",
    "\n",
    "plt.title('Training & Validation Accuracy')\n",
    "plt.xlabel('Epochs')\n",
    "plt.ylabel('Accuracy')\n",
    "plt.legend(['Training Accuracy', 'Validation Accuracy'])\n",
    "plt.grid()\n",
    "plt.show()"
   ]
  }
 ],
 "metadata": {
  "kernelspec": {
   "display_name": "Python 3",
   "language": "python",
   "name": "python3"
  },
  "language_info": {
   "codemirror_mode": {
    "name": "ipython",
    "version": 3
   },
   "file_extension": ".py",
   "mimetype": "text/x-python",
   "name": "python",
   "nbconvert_exporter": "python",
   "pygments_lexer": "ipython3",
   "version": "3.8.17"
  },
  "orig_nbformat": 4
 },
 "nbformat": 4,
 "nbformat_minor": 2
}
